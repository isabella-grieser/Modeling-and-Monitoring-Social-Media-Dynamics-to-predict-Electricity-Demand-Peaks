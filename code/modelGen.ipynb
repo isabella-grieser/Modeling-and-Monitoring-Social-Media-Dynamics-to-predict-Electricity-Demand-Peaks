{
 "cells": [
  {
   "cell_type": "code",
   "execution_count": 5,
   "outputs": [
    {
     "name": "stdout",
     "output_type": "stream",
     "text": [
      "The autoreload extension is already loaded. To reload it, use:\n",
      "  %reload_ext autoreload\n"
     ]
    }
   ],
   "source": [
    "%load_ext autoreload\n",
    "%autoreload 2"
   ],
   "metadata": {
    "collapsed": false,
    "ExecuteTime": {
     "start_time": "2023-05-04T15:06:50.555289Z",
     "end_time": "2023-05-04T15:06:50.603279Z"
    }
   }
  },
  {
   "cell_type": "code",
   "execution_count": 6,
   "metadata": {
    "collapsed": true,
    "ExecuteTime": {
     "start_time": "2023-04-29T16:06:28.531446Z",
     "end_time": "2023-04-29T16:06:28.621999Z"
    }
   },
   "outputs": [
    {
     "ename": "ModuleNotFoundError",
     "evalue": "No module named 'systemconstants'",
     "output_type": "error",
     "traceback": [
      "\u001B[1;31m---------------------------------------------------------------------------\u001B[0m",
      "\u001B[1;31mModuleNotFoundError\u001B[0m                       Traceback (most recent call last)",
      "Cell \u001B[1;32mIn[6], line 2\u001B[0m\n\u001B[0;32m      1\u001B[0m \u001B[38;5;28;01mimport\u001B[39;00m \u001B[38;5;21;01mjson\u001B[39;00m\n\u001B[1;32m----> 2\u001B[0m \u001B[38;5;28;01mimport\u001B[39;00m \u001B[38;5;21;01mgen\u001B[39;00m\u001B[38;5;21;01m.\u001B[39;00m\u001B[38;5;21;01mmodel\u001B[39;00m \u001B[38;5;28;01mas\u001B[39;00m \u001B[38;5;21;01mmb\u001B[39;00m\n\u001B[0;32m      3\u001B[0m \u001B[38;5;28;01mimport\u001B[39;00m \u001B[38;5;21;01mnetworkx\u001B[39;00m \u001B[38;5;28;01mas\u001B[39;00m \u001B[38;5;21;01mnx\u001B[39;00m\n",
      "File \u001B[1;32mD:\\Bildung\\Uni\\Elektrotechnik\\Master\\Masterthesis - Digital Twins\\effects-of-misinformation-on-the-electrical-grid\\code\\gen\\model.py:4\u001B[0m\n\u001B[0;32m      2\u001B[0m import random\n\u001B[0;32m      3\u001B[0m import numpy as np\n\u001B[1;32m----> 4\u001B[0m import systemconstants as const\n\u001B[0;32m      5\u001B[0m \n\u001B[0;32m      6\u001B[0m def create_social_network_graph(n, type, args):\n",
      "\u001B[1;31mModuleNotFoundError\u001B[0m: No module named 'systemconstants'"
     ]
    }
   ],
   "source": [
    "import json\n",
    "import gen.model as mb\n",
    "import networkx as nx"
   ]
  },
  {
   "cell_type": "markdown",
   "source": [
    "# Different Social Network Model Generation algorithms\n"
   ],
   "metadata": {
    "collapsed": false
   }
  },
  {
   "cell_type": "code",
   "execution_count": null,
   "outputs": [],
   "source": [
    "with open(\"./config/network_gen.json\", \"r\") as f:\n",
    "    config = json.load(f)\n",
    "    print(config)\n",
    "\n",
    "# create social media network model\n",
    "\n",
    "# small world novel\n",
    "network_model = mb.create_social_network_graph(\n",
    "    20,\n",
    "    \"watts_strogatz\",\n",
    "    config[\"network\"]\n",
    ")\n",
    "\n",
    "# plot graph\n",
    "nx.draw(network_model, with_labels=True, font_weight='bold')\n"
   ],
   "metadata": {
    "collapsed": false,
    "ExecuteTime": {
     "start_time": "2023-04-29T16:06:28.626001Z",
     "end_time": "2023-04-29T16:06:28.933958Z"
    }
   }
  },
  {
   "cell_type": "code",
   "execution_count": null,
   "outputs": [],
   "source": [
    "# Barabasi Albert Network Model\n",
    "network_model = mb.create_social_network_graph(\n",
    "    20,\n",
    "    \"barabasi_albert\",\n",
    "    config[\"network\"]\n",
    ")\n",
    "\n",
    "# plot graph\n",
    "nx.draw(network_model, with_labels=True, font_weight='bold')"
   ],
   "metadata": {
    "collapsed": false,
    "ExecuteTime": {
     "start_time": "2023-04-29T16:06:28.937982Z",
     "end_time": "2023-04-29T16:06:29.247681Z"
    }
   }
  },
  {
   "cell_type": "code",
   "execution_count": null,
   "outputs": [],
   "source": [
    "network_model = mb.create_social_network_graph(\n",
    "    20,\n",
    "    \"erdos_renyi\",\n",
    "    config[\"network\"]\n",
    ")\n",
    "\n",
    "# plot graph\n",
    "nx.draw(network_model, with_labels=True, font_weight='bold')"
   ],
   "metadata": {
    "collapsed": false,
    "ExecuteTime": {
     "start_time": "2023-04-29T16:06:29.247159Z",
     "end_time": "2023-04-29T16:06:29.555246Z"
    }
   }
  }
 ],
 "metadata": {
  "kernelspec": {
   "display_name": "Python 3",
   "language": "python",
   "name": "python3"
  },
  "language_info": {
   "codemirror_mode": {
    "name": "ipython",
    "version": 2
   },
   "file_extension": ".py",
   "mimetype": "text/x-python",
   "name": "python",
   "nbconvert_exporter": "python",
   "pygments_lexer": "ipython2",
   "version": "2.7.6"
  }
 },
 "nbformat": 4,
 "nbformat_minor": 0
}
